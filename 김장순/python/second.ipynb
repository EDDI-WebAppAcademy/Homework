{
 "cells": [
  {
   "cell_type": "code",
   "execution_count": 1,
   "id": "e1410d7d",
   "metadata": {},
   "outputs": [
    {
     "name": "stdout",
     "output_type": "stream",
     "text": [
      "변수값이 5보다 크다면 출력\n",
      "이건 왜 되고\n",
      "apple\n"
     ]
    }
   ],
   "source": [
    "val =10\n",
    "\n",
    "if val > 5:\n",
    "    print(\"변수값이 5보다 크다면 출력\")\n",
    "    \n",
    "money = 10\n",
    "\n",
    "if money < 100:\n",
    "    item = \"apple\"\n",
    "else:\n",
    "    item = \"banana\"\n",
    "    print(\"이건 왜 안되고\")\n",
    "print(\"이건 왜 되고\")\n",
    "\n",
    "print(item)\n",
    "        "
   ]
  },
  {
   "cell_type": "code",
   "execution_count": null,
   "id": "c435b6db",
   "metadata": {},
   "outputs": [],
   "source": [
    "score = int(input(('점수 입력: ')))\n",
    "\n",
    "if 90 <= score <= 100:\n",
    "    grade = \"A\"\n",
    "elif 80 <= score < 90:\n",
    "    grade = \"B\"\n",
    "elif 70 <= score < 80:\n",
    "    grade = \"C\"\n",
    "elif 60 <= score < 70:\n",
    "    grade = \"D\"\n",
    "else:\n",
    "    grade = \"F\"\n",
    "    \n",
    "print(\"등급: \" + grade)"
   ]
  },
  {
   "cell_type": "code",
   "execution_count": 75,
   "id": "cb71aa2d",
   "metadata": {},
   "outputs": [
    {
     "name": "stdout",
     "output_type": "stream",
     "text": [
      "5\n",
      "4\n",
      "3\n",
      "2\n",
      "1\n"
     ]
    }
   ],
   "source": [
    "val = 5\n",
    "while val > 0:\n",
    "    print(val)\n",
    "    val -=1"
   ]
  },
  {
   "cell_type": "code",
   "execution_count": 74,
   "id": "426dd9ca",
   "metadata": {},
   "outputs": [
    {
     "name": "stdout",
     "output_type": "stream",
     "text": [
      "Apple <class 'str'>\n",
      "100 <class 'int'>\n",
      "15.33 <class 'float'>\n"
     ]
    }
   ],
   "source": [
    "lists = ['Apple', 100, 15.33]\n",
    "for i in lists:\n",
    "    print(i, type(i))"
   ]
  },
  {
   "cell_type": "code",
   "execution_count": 73,
   "id": "3e0cb179",
   "metadata": {},
   "outputs": [
    {
     "name": "stdout",
     "output_type": "stream",
     "text": [
      "Apple 100\n",
      "Orange 200\n",
      "Banana 300\n"
     ]
    }
   ],
   "source": [
    "d = {\"Apple\": 100, \"Orange\": 200, \"Banana\": 300}\n",
    "for k,v in d.items():\n",
    "    print(k,v)"
   ]
  },
  {
   "cell_type": "code",
   "execution_count": 72,
   "id": "4bce4416",
   "metadata": {},
   "outputs": [
    {
     "name": "stdout",
     "output_type": "stream",
     "text": [
      "1\n",
      "2\n",
      "3\n",
      "4\n",
      "5\n",
      "6\n",
      "7\n",
      "8\n",
      "9\n",
      "10\n"
     ]
    }
   ],
   "source": [
    "for i in range(1, 11):\n",
    "    print(i)"
   ]
  },
  {
   "cell_type": "code",
   "execution_count": 77,
   "id": "89b5d453",
   "metadata": {},
   "outputs": [
    {
     "name": "stdout",
     "output_type": "stream",
     "text": [
      "item: 1\n",
      "item: 2\n",
      "item: 3\n",
      "item: 4\n",
      "item: 5\n"
     ]
    }
   ],
   "source": [
    "numList = range(1,11)\n",
    "\n",
    "for i in numList:\n",
    "    if i>5:\n",
    "        break\n",
    "    print(\"item: {0}\".format(i))"
   ]
  },
  {
   "cell_type": "code",
   "execution_count": 76,
   "id": "e3a1a490",
   "metadata": {},
   "outputs": [
    {
     "name": "stdout",
     "output_type": "stream",
     "text": [
      "item: 25\n",
      "item: 35\n"
     ]
    }
   ],
   "source": [
    "for i in numList:\n",
    "    if i % 2 == 0:\n",
    "        continue\n",
    "        \n",
    "    print(\"item: {0}\".format(i))"
   ]
  },
  {
   "cell_type": "code",
   "execution_count": null,
   "id": "523dfcad",
   "metadata": {},
   "outputs": [],
   "source": []
  },
  {
   "cell_type": "code",
   "execution_count": null,
   "id": "da9f0028",
   "metadata": {},
   "outputs": [],
   "source": [
    "print(list(range(10)))"
   ]
  },
  {
   "cell_type": "code",
   "execution_count": null,
   "id": "cb6526de",
   "metadata": {},
   "outputs": [],
   "source": [
    "print(range(10))"
   ]
  },
  {
   "cell_type": "code",
   "execution_count": 1,
   "id": "b5ae428a",
   "metadata": {},
   "outputs": [
    {
     "name": "stdout",
     "output_type": "stream",
     "text": [
      "range(0, 10)\n"
     ]
    }
   ],
   "source": [
    "print(range(10))"
   ]
  },
  {
   "cell_type": "code",
   "execution_count": 2,
   "id": "c2c0c533",
   "metadata": {},
   "outputs": [
    {
     "name": "stdout",
     "output_type": "stream",
     "text": [
      "[0, 1, 2, 3, 4, 5, 6, 7, 8, 9]\n"
     ]
    }
   ],
   "source": [
    "print(list(range(10)))"
   ]
  },
  {
   "cell_type": "code",
   "execution_count": 3,
   "id": "718f2651",
   "metadata": {},
   "outputs": [
    {
     "name": "stdout",
     "output_type": "stream",
     "text": [
      "[5, 6, 7, 8, 9]\n"
     ]
    }
   ],
   "source": [
    "print(list(range(5,10)))"
   ]
  },
  {
   "cell_type": "code",
   "execution_count": 4,
   "id": "d79c2274",
   "metadata": {},
   "outputs": [
    {
     "name": "stdout",
     "output_type": "stream",
     "text": [
      "[10, 9, 8, 7, 6, 5, 4, 3, 2, 1]\n"
     ]
    }
   ],
   "source": [
    "print(list(range(10, 0, -1)))"
   ]
  },
  {
   "cell_type": "code",
   "execution_count": 6,
   "id": "f8c016e9",
   "metadata": {},
   "outputs": [
    {
     "name": "stdout",
     "output_type": "stream",
     "text": [
      "range(10, 20, 2)\n"
     ]
    }
   ],
   "source": [
    "print(range(10, 20, 2))"
   ]
  },
  {
   "cell_type": "code",
   "execution_count": 8,
   "id": "6bfe0099",
   "metadata": {},
   "outputs": [
    {
     "name": "stdout",
     "output_type": "stream",
     "text": [
      "idx: 0, val: Grape\n",
      "idx: 1, val: 100\n",
      "idx: 2, val: 33.7\n",
      "idx: 3, val: Apple\n"
     ]
    }
   ],
   "source": [
    "varList=[\"Grape\", 100, 33.7, \"Apple\"]\n",
    "\n",
    "for i in range(len(varList)):\n",
    "    print(\"idx: {0}, val: {1}\".format(i, varList[i]))"
   ]
  },
  {
   "cell_type": "code",
   "execution_count": 10,
   "id": "07c20ac3",
   "metadata": {},
   "outputs": [
    {
     "name": "stdout",
     "output_type": "stream",
     "text": [
      "range(1, 11)\n"
     ]
    }
   ],
   "source": [
    "numList = range(1,11)\n",
    "print(numList)"
   ]
  },
  {
   "cell_type": "code",
   "execution_count": 11,
   "id": "cf25c5ca",
   "metadata": {},
   "outputs": [
    {
     "name": "stdout",
     "output_type": "stream",
     "text": [
      "[1, 4, 9, 16, 25, 36, 49, 64, 81, 100]\n"
     ]
    }
   ],
   "source": [
    "print([i ** 2 for i in numList])"
   ]
  },
  {
   "cell_type": "code",
   "execution_count": 12,
   "id": "b7ed6cf7",
   "metadata": {},
   "outputs": [
    {
     "name": "stdout",
     "output_type": "stream",
     "text": [
      "[5, 6, 5]\n"
     ]
    }
   ],
   "source": [
    "strList = (\"apple\", \"banana\", \"grape\")\n",
    "\n",
    "print([len(i) for i in strList])"
   ]
  },
  {
   "cell_type": "code",
   "execution_count": 16,
   "id": "e7bcdc28",
   "metadata": {},
   "outputs": [
    {
     "name": "stdout",
     "output_type": "stream",
     "text": [
      "['banana']\n"
     ]
    }
   ],
   "source": [
    "strList = [\"apple\", \"banana\", \"grape\", \"kiwi\"]\n",
    "\n",
    "print([i for i in strList if len(i) > 5])"
   ]
  },
  {
   "cell_type": "code",
   "execution_count": 21,
   "id": "7cb71e2b",
   "metadata": {},
   "outputs": [
    {
     "name": "stdout",
     "output_type": "stream",
     "text": [
      "item: 10\n",
      "item: 25\n",
      "item: 30\n",
      "item: 35\n"
     ]
    }
   ],
   "source": [
    "numList = [10,25,30,35]\n",
    "for i in filter(None, numList):\n",
    "    print(\"item: {0}\".format(i))"
   ]
  },
  {
   "cell_type": "code",
   "execution_count": 22,
   "id": "69490050",
   "metadata": {},
   "outputs": [
    {
     "name": "stdout",
     "output_type": "stream",
     "text": [
      "item: 25\n",
      "item: 30\n",
      "item: 35\n"
     ]
    }
   ],
   "source": [
    "def GetBiggerThan20(i):\n",
    "    return i >20\n",
    "\n",
    "for i in filter(GetBiggerThan20, numList):\n",
    "    print(\"item: {0}\".format(i))"
   ]
  },
  {
   "cell_type": "code",
   "execution_count": 23,
   "id": "769ab374",
   "metadata": {},
   "outputs": [
    {
     "name": "stdout",
     "output_type": "stream",
     "text": [
      "item: 25\n",
      "item: 30\n",
      "item: 35\n"
     ]
    }
   ],
   "source": [
    "for i in filter(lambda i : i > 20, numList):\n",
    "    print(\"item: {0}\".format(i))"
   ]
  },
  {
   "cell_type": "code",
   "execution_count": 24,
   "id": "10971ab0",
   "metadata": {},
   "outputs": [
    {
     "name": "stdout",
     "output_type": "stream",
     "text": [
      "item: 20\n",
      "item: 35\n",
      "item: 40\n",
      "item: 45\n"
     ]
    }
   ],
   "source": [
    "def Add10(i):\n",
    "    return i + 10\n",
    "\n",
    "for i in map(Add10, numList):\n",
    "    print(\"item: {0}\".format(i))"
   ]
  },
  {
   "cell_type": "code",
   "execution_count": 27,
   "id": "313ef296",
   "metadata": {},
   "outputs": [
    {
     "name": "stdout",
     "output_type": "stream",
     "text": [
      "item: 20\n",
      "item: 35\n",
      "item: 40\n",
      "item: 45\n"
     ]
    }
   ],
   "source": [
    "for i in map(lambda i: i + 10, numList):\n",
    "    print(\"item: {0}\".format(i))"
   ]
  },
  {
   "cell_type": "code",
   "execution_count": 30,
   "id": "7a84b32a",
   "metadata": {},
   "outputs": [
    {
     "name": "stdout",
     "output_type": "stream",
     "text": [
      "<function times at 0x7fe628a0c550>\n",
      "100\n"
     ]
    }
   ],
   "source": [
    "def times(a,b):\n",
    "    return a * b\n",
    "\n",
    "print(times)\n",
    "print(times(10,10))"
   ]
  },
  {
   "cell_type": "code",
   "execution_count": 31,
   "id": "5cd2b9a7",
   "metadata": {},
   "outputs": [
    {
     "name": "stdout",
     "output_type": "stream",
     "text": [
      "100\n"
     ]
    }
   ],
   "source": [
    "pointerOfFunction = times\n",
    "res = pointerOfFunction(10, 10)\n",
    "print(res)"
   ]
  },
  {
   "cell_type": "code",
   "execution_count": 32,
   "id": "de3b6ce9",
   "metadata": {},
   "outputs": [],
   "source": [
    "# buy = game_item_buy\n",
    "# buy()\n",
    "\n",
    "# buy = google_play_buy\n",
    "# buy()\n",
    "#구매하다라는 일관성 유지"
   ]
  },
  {
   "cell_type": "code",
   "execution_count": 33,
   "id": "e63f5fde",
   "metadata": {},
   "outputs": [
    {
     "name": "stdout",
     "output_type": "stream",
     "text": [
      "[]\n",
      "['A']\n"
     ]
    }
   ],
   "source": [
    "def intersect(prelist, postlist):\n",
    "    retList = []\n",
    "    \n",
    "    for x in prelist:\n",
    "        if x in postlist:\n",
    "            retList.append(x)\n",
    "            \n",
    "    return retList\n",
    "\n",
    "listA = \"Apple\"\n",
    "listB = \"onion\"\n",
    "\n",
    "print(intersect(listA, listB))\n",
    "print(intersect(listA,['H','A','M']))"
   ]
  },
  {
   "cell_type": "code",
   "execution_count": 35,
   "id": "af42bee1",
   "metadata": {},
   "outputs": [
    {
     "name": "stdout",
     "output_type": "stream",
     "text": [
      "(7, 3)\n"
     ]
    }
   ],
   "source": [
    "def swap(x,y):\n",
    "    return y,x\n",
    "\n",
    "# return이 두개 이상 가능하다\n",
    "print(swap(3,7))"
   ]
  },
  {
   "cell_type": "code",
   "execution_count": 37,
   "id": "f35334e2",
   "metadata": {},
   "outputs": [
    {
     "name": "stdout",
     "output_type": "stream",
     "text": [
      "(7, 3, 33.7)\n"
     ]
    }
   ],
   "source": [
    "def swap(x,y):\n",
    "    return y,x,33.7\n",
    "\n",
    "print(swap(3,7))"
   ]
  },
  {
   "cell_type": "code",
   "execution_count": 42,
   "id": "2ea6c8e2",
   "metadata": {},
   "outputs": [
    {
     "name": "stdout",
     "output_type": "stream",
     "text": [
      "1\n",
      "10\n",
      "7\n"
     ]
    }
   ],
   "source": [
    "glob = 1\n",
    "\n",
    "#exchange e를 대문자로 잘 안쓰기 때문에\n",
    "def xchgScope(x):\n",
    "    global glob\n",
    "    glob = 7           #함수내부에서 전역변수 선언 glob값이 덧씌워짐\n",
    "    return glob + x\n",
    "\n",
    "print(glob)\n",
    "print(xchgScope(3))\n",
    "print(glob)"
   ]
  },
  {
   "cell_type": "code",
   "execution_count": 44,
   "id": "2de6deb4",
   "metadata": {},
   "outputs": [
    {
     "name": "stdout",
     "output_type": "stream",
     "text": [
      "9\n"
     ]
    }
   ],
   "source": [
    "print((lambda x: x * x)(3))"
   ]
  },
  {
   "cell_type": "code",
   "execution_count": 45,
   "id": "b80f2bc8",
   "metadata": {},
   "outputs": [
    {
     "name": "stdout",
     "output_type": "stream",
     "text": [
      "[1, 10, 20, 1, 10, 20]\n"
     ]
    }
   ],
   "source": [
    "print((lambda x : x* 2)([1, 10, 20]))"
   ]
  },
  {
   "cell_type": "code",
   "execution_count": 52,
   "id": "1da677c7",
   "metadata": {},
   "outputs": [
    {
     "name": "stdout",
     "output_type": "stream",
     "text": [
      "2\n",
      "20\n",
      "40\n"
     ]
    }
   ],
   "source": [
    "ssnList = [1, 10 , 20]\n",
    "for i in ssnList:\n",
    "    print((lambda x : x* 2)(i))\n"
   ]
  },
  {
   "cell_type": "code",
   "execution_count": 55,
   "id": "a70a452c",
   "metadata": {},
   "outputs": [
    {
     "name": "stdout",
     "output_type": "stream",
     "text": [
      "내 이름은 Default\n",
      "내 이름은 홍길동\n",
      "내 이름은 홍길동\n"
     ]
    }
   ],
   "source": [
    "class Person:\n",
    "    name = \"Default\"\n",
    "    \n",
    "    def personPrint(self):       \n",
    "        print(\"내 이름은 {0}\".format(self.name))\n",
    "        \n",
    "p1 = Person()   #객체 생성에 new가 필요없음\n",
    "p1.personPrint()\n",
    "\n",
    "p1.name = \"홍길동\"\n",
    "p1.personPrint()\n",
    "Person.personPrint(p1)"
   ]
  },
  {
   "cell_type": "code",
   "execution_count": 61,
   "id": "33dac461",
   "metadata": {},
   "outputs": [
    {
     "name": "stdout",
     "output_type": "stream",
     "text": [
      "3\n",
      "7\n",
      "33\n"
     ]
    },
    {
     "ename": "AttributeError",
     "evalue": "'Test' object has no attribute '__test3'",
     "output_type": "error",
     "traceback": [
      "\u001b[0;31m---------------------------------------------------------------------------\u001b[0m",
      "\u001b[0;31mAttributeError\u001b[0m                            Traceback (most recent call last)",
      "Input \u001b[0;32mIn [61]\u001b[0m, in \u001b[0;36m<cell line: 14>\u001b[0;34m()\u001b[0m\n\u001b[1;32m     12\u001b[0m \u001b[38;5;28mprint\u001b[39m(test\u001b[38;5;241m.\u001b[39m_test2)\n\u001b[1;32m     13\u001b[0m test\u001b[38;5;241m.\u001b[39mtestPrint()     \u001b[38;5;66;03m#내부 메소드를 생성해 이용해야함\u001b[39;00m\n\u001b[0;32m---> 14\u001b[0m \u001b[38;5;28mprint\u001b[39m(\u001b[43mtest\u001b[49m\u001b[38;5;241;43m.\u001b[39;49m\u001b[43m__test3\u001b[49m)\n",
      "\u001b[0;31mAttributeError\u001b[0m: 'Test' object has no attribute '__test3'"
     ]
    }
   ],
   "source": [
    "class Test:\n",
    "    test1 = 3\n",
    "    _test2 = 7      #protected\n",
    "    __test3 = 33    #__ 언더바 2개를 사용하면 private\n",
    "    \n",
    "    def testPrint(self):\n",
    "        print(self.__test3)\n",
    "    \n",
    "test = Test()\n",
    "\n",
    "print(test.test1)\n",
    "print(test._test2)\n",
    "test.testPrint()     #내부 메소드를 생성해 이용해야함\n",
    "print(test.__test3)\n"
   ]
  },
  {
   "cell_type": "code",
   "execution_count": 64,
   "id": "81e67649",
   "metadata": {},
   "outputs": [
    {
     "name": "stdout",
     "output_type": "stream",
     "text": [
      "{'name': '고고싱', 'age': 77}\n",
      "<__main__.Person object at 0x7fe6084be730>\n"
     ]
    }
   ],
   "source": [
    "class Person: \n",
    "    def __init__(self, name, age):    #생성자\n",
    "        self.name = name\n",
    "        self.age = age\n",
    "        \n",
    "    def print(self):\n",
    "        print(\"이름은 {0}, 나이는 {1}\".format(self.name, self.age))\n",
    "        \n",
    "p = Person(\"고고싱\", 77)\n",
    "\n",
    "print(p.__dict__)\n",
    "print(p)"
   ]
  },
  {
   "cell_type": "code",
   "execution_count": 67,
   "id": "e70c48b9",
   "metadata": {},
   "outputs": [
    {
     "name": "stdout",
     "output_type": "stream",
     "text": [
      "{'name': '고고싱', 'age': 33, 'major': '물리학'}\n"
     ]
    }
   ],
   "source": [
    "class Student(Person):\n",
    "    def __init__(self, name, age, major):    #self는 java의 this와 같다\n",
    "        super(Student, self).__init__(name, age)\n",
    "        self.major = major\n",
    "        \n",
    "    def printStudent(self):\n",
    "        print(\"Student - name: {0}, age: {1}, major: {2}\".format(self.name, self.age, self.major))\n",
    "        \n",
    "s = Student(\"고고싱\", 33, \"물리학\")\n",
    "\n",
    "print(s.__dict__)"
   ]
  },
  {
   "cell_type": "code",
   "execution_count": 78,
   "id": "7cde4962",
   "metadata": {},
   "outputs": [
    {
     "name": "stdout",
     "output_type": "stream",
     "text": [
      "-1\n",
      "1\n"
     ]
    }
   ],
   "source": [
    "a=-1\n",
    "print(a)\n",
    "print(abs(a))"
   ]
  },
  {
   "cell_type": "code",
   "execution_count": 71,
   "id": "1eda2b27",
   "metadata": {},
   "outputs": [],
   "source": []
  },
  {
   "cell_type": "code",
   "execution_count": null,
   "id": "73a4cc91",
   "metadata": {},
   "outputs": [],
   "source": []
  }
 ],
 "metadata": {
  "kernelspec": {
   "display_name": "Python 3 (ipykernel)",
   "language": "python",
   "name": "python3"
  },
  "language_info": {
   "codemirror_mode": {
    "name": "ipython",
    "version": 3
   },
   "file_extension": ".py",
   "mimetype": "text/x-python",
   "name": "python",
   "nbconvert_exporter": "python",
   "pygments_lexer": "ipython3",
   "version": "3.9.12"
  }
 },
 "nbformat": 4,
 "nbformat_minor": 5
}
