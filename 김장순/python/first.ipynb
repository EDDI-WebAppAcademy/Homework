{
 "cells": [
  {
   "cell_type": "code",
   "execution_count": 1,
   "id": "d2c4ef05",
   "metadata": {},
   "outputs": [
    {
     "name": "stdout",
     "output_type": "stream",
     "text": [
      "안녕 난 파이썬이야\n"
     ]
    }
   ],
   "source": [
    "print('안녕 난 파이썬이야')"
   ]
  },
  {
   "cell_type": "code",
   "execution_count": 2,
   "id": "00020cfd",
   "metadata": {},
   "outputs": [
    {
     "name": "stdout",
     "output_type": "stream",
     "text": [
      "2 7\n"
     ]
    }
   ],
   "source": [
    "num = 2\n",
    "Num = 7\n",
    "print(num, Num)"
   ]
  },
  {
   "cell_type": "code",
   "execution_count": 3,
   "id": "27cd4afd",
   "metadata": {},
   "outputs": [
    {
     "name": "stdout",
     "output_type": "stream",
     "text": [
      "<class 'complex'>\n"
     ]
    },
    {
     "ename": "AttributeError",
     "evalue": "'complex' object has no attribute 'img'",
     "output_type": "error",
     "traceback": [
      "\u001b[0;31m---------------------------------------------------------------------------\u001b[0m",
      "\u001b[0;31mAttributeError\u001b[0m                            Traceback (most recent call last)",
      "Input \u001b[0;32mIn [3]\u001b[0m, in \u001b[0;36m<cell line: 3>\u001b[0;34m()\u001b[0m\n\u001b[1;32m      1\u001b[0m z \u001b[38;5;241m=\u001b[39m \u001b[38;5;241m3\u001b[39m\u001b[38;5;241m+\u001b[39m \u001b[38;5;241m4\u001b[39mj\n\u001b[1;32m      2\u001b[0m \u001b[38;5;28mprint\u001b[39m(\u001b[38;5;28mtype\u001b[39m(z))\n\u001b[0;32m----> 3\u001b[0m \u001b[38;5;28mprint\u001b[39m(\u001b[43mz\u001b[49m\u001b[38;5;241;43m.\u001b[39;49m\u001b[43mimg\u001b[49m)\n\u001b[1;32m      4\u001b[0m \u001b[38;5;28mprint\u001b[39m(z\u001b[38;5;241m.\u001b[39mreal)\n\u001b[1;32m      5\u001b[0m \u001b[38;5;28mprint\u001b[39m(z\u001b[38;5;241m.\u001b[39mconjugate())\n",
      "\u001b[0;31mAttributeError\u001b[0m: 'complex' object has no attribute 'img'"
     ]
    }
   ],
   "source": [
    "z = 3+ 4j\n",
    "print(type(z))\n",
    "print(z.img)\n",
    "print(z.real)\n",
    "print(z.conjugate())"
   ]
  },
  {
   "cell_type": "code",
   "execution_count": 4,
   "id": "4c65eb90",
   "metadata": {},
   "outputs": [
    {
     "name": "stdout",
     "output_type": "stream",
     "text": [
      "<class 'complex'>\n",
      "4.0\n",
      "3.0\n",
      "(3-4j)\n"
     ]
    }
   ],
   "source": [
    "z = 3+ 4j\n",
    "print(type(z))\n",
    "print(z.imag)\n",
    "print(z.real)\n",
    "print(z.conjugate())"
   ]
  },
  {
   "cell_type": "code",
   "execution_count": 5,
   "id": "b65de9ba",
   "metadata": {},
   "outputs": [
    {
     "name": "stdout",
     "output_type": "stream",
     "text": [
      "1.2e+30 1.57e-20 1024\n"
     ]
    }
   ],
   "source": [
    "num1 = 1.2e30\n",
    "num2 = 1.57e-20\n",
    "num3 = 2 ** 10\n",
    "\n",
    "#여기서 e는 오일러 상수 (exponential 이 아니며 10^n을 의미함)\n",
    "print(num1, num2, num3)"
   ]
  },
  {
   "cell_type": "code",
   "execution_count": 6,
   "id": "50a99ece",
   "metadata": {},
   "outputs": [
    {
     "name": "stdout",
     "output_type": "stream",
     "text": [
      "0 333.3 0.42857142857142855\n"
     ]
    }
   ],
   "source": [
    "num4 = 3//7\n",
    "num5 = 3333/10\n",
    "num6 = 3/7\n",
    "\n",
    "print(num4, num5, num6)"
   ]
  },
  {
   "cell_type": "code",
   "execution_count": 8,
   "id": "80be5a3f",
   "metadata": {},
   "outputs": [],
   "source": [
    "fixStr = \"\"\"\n",
    "              영원히 살고 순간에 살아라!\n",
    "              영원히 살 것 처럼 일하고\n",
    "              금방 죽을 것처럼 사람들을 대하라!\n",
    "                     -리히텐베르크\n",
    "\n",
    "\"\"\""
   ]
  },
  {
   "cell_type": "code",
   "execution_count": 9,
   "id": "e9fba8a9",
   "metadata": {},
   "outputs": [
    {
     "name": "stdout",
     "output_type": "stream",
     "text": [
      "\n",
      "              영원히 살고 순간에 살아라!\n",
      "              영원히 살 것 처럼 일하고\n",
      "              금방 죽을 것처럼 사람들을 대하라!\n",
      "                     -리히텐베르크\n",
      "\n",
      "\n"
     ]
    }
   ],
   "source": [
    "fixStr = \"\"\"\n",
    "              영원히 살고 순간에 살아라!\n",
    "              영원히 살 것 처럼 일하고\n",
    "              금방 죽을 것처럼 사람들을 대하라!\n",
    "                     -리히텐베르크\n",
    "\n",
    "\"\"\"\n",
    "print(fixStr)"
   ]
  },
  {
   "cell_type": "code",
   "execution_count": 10,
   "id": "7d152797",
   "metadata": {},
   "outputs": [
    {
     "name": "stdout",
     "output_type": "stream",
     "text": [
      "p\n"
     ]
    }
   ],
   "source": [
    "str= \"pointer\"\n",
    "print(str[0])"
   ]
  },
  {
   "cell_type": "code",
   "execution_count": 11,
   "id": "f19f7502",
   "metadata": {},
   "outputs": [
    {
     "name": "stdout",
     "output_type": "stream",
     "text": [
      "pitr\n"
     ]
    }
   ],
   "source": [
    "str = \"pointer\"\n",
    "print(str[::2])"
   ]
  },
  {
   "cell_type": "code",
   "execution_count": null,
   "id": "99a3e5b9",
   "metadata": {},
   "outputs": [],
   "source": []
  }
 ],
 "metadata": {
  "kernelspec": {
   "display_name": "Python 3 (ipykernel)",
   "language": "python",
   "name": "python3"
  },
  "language_info": {
   "codemirror_mode": {
    "name": "ipython",
    "version": 3
   },
   "file_extension": ".py",
   "mimetype": "text/x-python",
   "name": "python",
   "nbconvert_exporter": "python",
   "pygments_lexer": "ipython3",
   "version": "3.9.12"
  }
 },
 "nbformat": 4,
 "nbformat_minor": 5
}
