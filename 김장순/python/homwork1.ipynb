{
 "cells": [
  {
   "cell_type": "code",
   "execution_count": 1,
   "id": "d34c0499",
   "metadata": {},
   "outputs": [],
   "source": [
    "# 전체 지도가 8, 8 형태의 행렬을 이룬다.\n",
    "\n",
    "# 이중에서 랜덤하게 (x, y) 형태의 좌표에 사용자가 배치되도록 구성한다.\n",
    "\n",
    "# 마찬가지로 랜덤한 (j, k) 좌표들에 랠리 포인트를 지정한다.\n",
    "\n",
    "# 랜덤하게 할당된 내 위치에서 가장 먼 곳에 있는 랠리 포인트의 좌표와\n",
    "\n",
    "# 가장 가까운 곳의 좌표를 구할 수 있는 프로그램을 작성하세요."
   ]
  },
  {
   "cell_type": "code",
   "execution_count": 2,
   "id": "1ed77376",
   "metadata": {},
   "outputs": [],
   "source": [
    "# 파이썬에서 랜덤 만드는 방법\n",
    "\n",
    "# from random import *\n",
    "\n",
    "# randNum = randint(1, 100) 1 ~ 100 사이 임의 정수"
   ]
  },
  {
   "cell_type": "code",
   "execution_count": 15,
   "id": "387dfbfb",
   "metadata": {},
   "outputs": [
    {
     "name": "stdout",
     "output_type": "stream",
     "text": [
      "[['o', 'o', 'o', 'o', 'o', 'o', 'o', 'o'], ['o', 'o', 'o', 'o', 'o', 'o', 'o', 'o'], ['o', 'o', 'o', 'o', 'o', 'o', 'o', 'o'], ['o', 'o', 'o', 'o', 'o', 'o', 'o', 'o'], ['o', 'o', 'o', 'o', 'o', 'o', 'o', 'o'], ['o', 'o', 'o', 'o', 'o', 'o', 'o', 'o'], ['o', 'o', 'o', 'o', 'o', 'o', 'o', 'o'], ['o', 'o', 'o', 'o', 'o', 'o', 'o', 'o']]\n"
     ]
    }
   ],
   "source": [
    "class CustomMap:\n",
    "    worldMap = [[\"o\" for col in range(8)] for row in range(8)]    \n",
    "    \n",
    "    print(worldMap)"
   ]
  },
  {
   "cell_type": "code",
   "execution_count": 10,
   "id": "7d59d18f",
   "metadata": {},
   "outputs": [],
   "source": [
    "from random import *\n",
    "\n",
    "class RanNum:\n",
    "    limitNum = 8\n",
    "    ranNum = randint(0, limitNum)"
   ]
  },
  {
   "cell_type": "code",
   "execution_count": 9,
   "id": "d9dbf0a5",
   "metadata": {},
   "outputs": [],
   "source": [
    "class MyPoint:\n",
    "    point = \"M\""
   ]
  },
  {
   "cell_type": "code",
   "execution_count": 7,
   "id": "baa9d2f7",
   "metadata": {},
   "outputs": [],
   "source": [
    "class RallyPoint:\n",
    "    point = \"R\"\n",
    "    \n",
    "    x1, y1 = 0,3\n",
    "    x2, y2 = 3,1\n",
    "    x3, y3 = 6,7"
   ]
  },
  {
   "cell_type": "code",
   "execution_count": 19,
   "id": "fdf4afbe",
   "metadata": {},
   "outputs": [
    {
     "ename": "AttributeError",
     "evalue": "'MyPoint' object has no attribute 'x'",
     "output_type": "error",
     "traceback": [
      "\u001b[0;31m---------------------------------------------------------------------------\u001b[0m",
      "\u001b[0;31mAttributeError\u001b[0m                            Traceback (most recent call last)",
      "Input \u001b[0;32mIn [19]\u001b[0m, in \u001b[0;36m<cell line: 38>\u001b[0;34m()\u001b[0m\n\u001b[1;32m     36\u001b[0m f \u001b[38;5;241m=\u001b[39m FindCoordinate()\n\u001b[1;32m     37\u001b[0m m \u001b[38;5;241m=\u001b[39m MyPoint()\n\u001b[0;32m---> 38\u001b[0m f\u001b[38;5;241m.\u001b[39mcalculation(\u001b[43mm\u001b[49m\u001b[38;5;241;43m.\u001b[39;49m\u001b[43mx\u001b[49m,m\u001b[38;5;241m.\u001b[39my)\n",
      "\u001b[0;31mAttributeError\u001b[0m: 'MyPoint' object has no attribute 'x'"
     ]
    }
   ],
   "source": [
    "class FindCoordinate:\n",
    "    r = RallyPoint()\n",
    "    distanceListX = [r.x1, r.x2, r.x3]\n",
    "    distanceListY = [r.y1, r.y2, r.y3]\n",
    "    \n",
    "    def calculation(self,x, y):\n",
    "        f = FindCoordinate()\n",
    "        tmpX = []\n",
    "        tmpY = []\n",
    "        for i in f.distanceListX:\n",
    "            tmpX.append(abs(x - i)) \n",
    "        for j in f.distanceListY:\n",
    "            tmpY.append(abs(y - j)) \n",
    "        resultList = [tmpX[0] + tmpY[0], tmpX[1] + tmpY[1], tmpX[2] + tmpY[2]]\n",
    "        \n",
    "        farPoint = resultList.index(max(resultList))\n",
    "        if farPoint == 0:\n",
    "            pointX = \"(0,3)\"\n",
    "        elif farPoint == 1:\n",
    "            pointX = \"(3,1)\"\n",
    "        elif farPoint == 2:\n",
    "            pointX = \"(6,7)\"\n",
    "            \n",
    "        closePoint = resultList.index(min(resultList))\n",
    "        if closePoint == 0:\n",
    "            pointY = \"(0,3)\"\n",
    "        elif closePoint == 1:\n",
    "            pointY = \"(3,1)\"\n",
    "        elif closePoint == 2:\n",
    "            pointY = \"(6,7)\"\n",
    "            \n",
    "        \n",
    "        print(\"가장 먼 곳에 있는 랠리 포인트의 좌표는: \", pointX)\n",
    "        print(\"가장 가까운 곳에 있는 랠리 포인트의 좌표는: \", pointY)\n",
    "          \n",
    "f = FindCoordinate()\n",
    "m = MyPoint()\n",
    "f.calculation(m.x,m.y)"
   ]
  },
  {
   "cell_type": "code",
   "execution_count": 25,
   "id": "6ec39607",
   "metadata": {},
   "outputs": [
    {
     "name": "stdout",
     "output_type": "stream",
     "text": [
      "수동으로 좌표를 설정하시겠습니까? (y/n)ㅛ\n",
      "잘못 입력했습니다\n",
      "수동으로 좌표를 설정하시겠습니까? (y/n)y\n",
      "x좌표값을 입력해주세요(0~8):\n",
      "3\n",
      "y좌표값을 입력해주세요(0~8):\n",
      "4\n",
      "\n",
      "o o o R o o o o \n",
      "o o o o o o o o \n",
      "o o o o o o o o \n",
      "o R o o M M M o \n",
      "o o o o o o M o \n",
      "o o o o o o o o \n",
      "o o o o o o o R \n",
      "o o o o o o o M \n",
      "\n",
      "가장 먼 곳에 있는 랠리 포인트의 좌표는:  (6,7)\n",
      "가장 가까운 곳에 있는 랠리 포인트의 좌표는:  (3,1)\n"
     ]
    }
   ],
   "source": [
    "class Controller:\n",
    "    while True:\n",
    "        inputAnswer = input('수동으로 좌표를 설정하시겠습니까? (y/n)')\n",
    "        yes = \"y\"\n",
    "        no = \"n\"\n",
    "        rdm = RanNum()\n",
    "    \n",
    "        if inputAnswer == yes:\n",
    "            print('x좌표값을 입력해주세요(0~8):')\n",
    "            x = int(input())\n",
    "            print('y좌표값을 입력해주세요(0~8):')\n",
    "            y = int(input())   \n",
    "            break\n",
    "        elif inputAnswer == no:\n",
    "            x = rdm.ranNum\n",
    "            y = rdm.ranNum\n",
    "            break\n",
    "        else:\n",
    "            print(\"잘못 입력했습니다\")\n",
    "\n",
    "    m = CustomMap()\n",
    "    r = RallyPoint()\n",
    "    \n",
    "    m.worldMap[r.x1][r.y1] = r.point   #랠리포인트 위치 좌표에 표시\n",
    "    m.worldMap[r.x2][r.y2] = r.point\n",
    "    m.worldMap[r.x3][r.y3] = r.point\n",
    "    \n",
    "    my = MyPoint()\n",
    "    m.worldMap[x][y] = my.point\n",
    "\n",
    "    print()\n",
    "    for i in m.worldMap:        \n",
    "        for j in i:   \n",
    "            print(j, end=' ')\n",
    "        print()\n",
    "    \n",
    "    print()\n",
    "    f = FindCoordinate()\n",
    "    f.calculation(x,y)\n",
    "    "
   ]
  },
  {
   "cell_type": "code",
   "execution_count": null,
   "id": "e2b3b42c",
   "metadata": {},
   "outputs": [],
   "source": []
  }
 ],
 "metadata": {
  "kernelspec": {
   "display_name": "Python 3 (ipykernel)",
   "language": "python",
   "name": "python3"
  },
  "language_info": {
   "codemirror_mode": {
    "name": "ipython",
    "version": 3
   },
   "file_extension": ".py",
   "mimetype": "text/x-python",
   "name": "python",
   "nbconvert_exporter": "python",
   "pygments_lexer": "ipython3",
   "version": "3.9.12"
  }
 },
 "nbformat": 4,
 "nbformat_minor": 5
}
