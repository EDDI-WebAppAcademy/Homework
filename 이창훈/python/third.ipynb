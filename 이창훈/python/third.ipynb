{
 "cells": [
  {
   "cell_type": "code",
   "execution_count": null,
   "id": "20e19544",
   "metadata": {},
   "outputs": [],
   "source": [
    "import time\n",
    "import multiprocessing\n",
    "\n",
    "def count_down(x):\n",
    "    while True:\n",
    "        if x == 0:\n",
    "            break\n",
    "        \n",
    "        print(\"카운트타운 ... %d\" % x)\n",
    "        x -= 1\n",
    "        time.sleep(1)\n",
    "        \n",
    "if __name__ == '__main__':\n",
    "    p = multiprocessing.Process(target=count_down, args=(5, ))\n",
    "    print(p)\n",
    "    p.start()\n",
    "    p.join()"
   ]
  },
  {
   "cell_type": "code",
   "execution_count": null,
   "id": "22fa29bf",
   "metadata": {},
   "outputs": [],
   "source": [
    "import threading\n",
    "import os\n",
    "\n",
    "# 제어권이 넘어가는 걸 확인할수 있다.\n",
    "\n",
    "def info():\n",
    "    print('모듈명: ', __name__)\n",
    "    print('프로세스 id: ', os.getpid())\n",
    "    print('스레드 id: ', threading.get_ident())\n",
    "    print('이런식으로 많이 집어넣으면 Context Switching도 확인할 수 있음')\n",
    "\n",
    "def print_hello():\n",
    "    print('안녕')\n",
    "    info()\n",
    "    time.sleep(1)\n",
    "    print('잠자다 일어난다\\n')\n",
    "    \n",
    "if __name__ == '__main__':\n",
    "    # 현재 시간 기록\n",
    "    start = time.perf_counter()\n",
    "    threads = []\n",
    "    \n",
    "    # 스레드 5개 생성\n",
    "    # 실제 컴퓨터 성능에 따라서 이 부분에 많이 혼성될 수도 있고 덜 혼성될 수도 있음\n",
    "    # 컴퓨터가 압도적으로 좋거나 압도적으로 후지면 잘 혼성되지 않는다.\n",
    "    for _ in range(5):\n",
    "        t = threading.Thread(target = print_hello)\n",
    "        t.start()\n",
    "        threads.append(t)\n",
    "    \n",
    "    # 스레드 구동\n",
    "    for thread in threads:\n",
    "        thread.join()\n",
    "    \n",
    "    # 현재 시간 기록(현재 시간 - 이전 시간) -> 걸린 시간\n",
    "    finish = time.perf_counter()\n",
    "    \n",
    "    print('종료: ', str(round(finish - start, 2)) + '초')"
   ]
  },
  {
   "cell_type": "code",
   "execution_count": null,
   "id": "1c672928",
   "metadata": {},
   "outputs": [],
   "source": [
    "import threading\n",
    "\n",
    "x = 0\n",
    "\n",
    "def increment_global():\n",
    "    global x\n",
    "    x += 1\n",
    "\n",
    "def thread_processing():\n",
    "    for _ in range(1000000):\n",
    "        increment_global()\n",
    "        \n",
    "def thread_main():\n",
    "    global x\n",
    "    x = 0\n",
    "    \n",
    "    t1 = threading.Thread(target = thread_processing)\n",
    "    t2 = threading.Thread(target = thread_processing)\n",
    "    \n",
    "    t1.start()\n",
    "    t2.start()\n",
    "    \n",
    "    t1.join()\n",
    "    t2.join()\n",
    "    \n",
    "for i in range(10):\n",
    "    thread_main()\n",
    "    print(\"{0} 번째 반복 이후 x = {1}\".format(i, x))\n",
    "    \n",
    "# 데이터 무결성 -> 200만이 나와야하는데 안나온다.(결과값이 기대값과 다름) -> 데이터의 무결성을 보장할수 없다."
   ]
  },
  {
   "cell_type": "code",
   "execution_count": null,
   "id": "68223d23",
   "metadata": {},
   "outputs": [],
   "source": [
    "import threading\n",
    "\n",
    "# java에서는 async, await와 같음\n",
    "# lock을 많이쓰면 속도가 느려진다 -> lock을 적절하게 써야함\n",
    "lock = threading.Lock()\n",
    "x = 0\n",
    "\n",
    "def increment_global():\n",
    "    global x\n",
    "    x += 1\n",
    "\n",
    "def thread_processing():\n",
    "    for _ in range(1000000):\n",
    "        lock.acquire()\n",
    "        increment_global()\n",
    "        lock.release()\n",
    "        # 여기서 lock이 100만번 걸리게 됨 -> 느려지는 이유\n",
    "        \n",
    "def thread_main():\n",
    "    global x\n",
    "    x = 0\n",
    "    \n",
    "    t1 = threading.Thread(target = thread_processing)\n",
    "    t2 = threading.Thread(target = thread_processing)\n",
    "    \n",
    "    t1.start()\n",
    "    t2.start()\n",
    "    \n",
    "    t1.join()\n",
    "    t2.join()\n",
    "    \n",
    "start = time.perf_counter()\n",
    "    \n",
    "for i in range(10):\n",
    "    thread_main()\n",
    "    print(\"{0} 번째 반복 이후 x = {1}\".format(i, x))\n",
    "    \n",
    "finish = time.perf_counter()\n",
    "print('종료: ', str(round(finish - start, 2)) + '초')"
   ]
  },
  {
   "cell_type": "code",
   "execution_count": null,
   "id": "19b952c0",
   "metadata": {},
   "outputs": [],
   "source": [
    "import threading\n",
    "\n",
    "# java에서는 async, await와 같음\n",
    "# lock을 많이쓰면 속도가 느려진다 -> lock을 적절하게 써야함\n",
    "lock = threading.Lock()\n",
    "x = 0\n",
    "\n",
    "def increment_global():\n",
    "    global x\n",
    "    x += 1\n",
    "\n",
    "def thread_processing():\n",
    "    # lock을 100만번 반복에서 제외시킴 -> 빨라짐\n",
    "    lock.acquire()\n",
    "    for _ in range(1000000):\n",
    "        increment_global()\n",
    "    \n",
    "    lock.release()\n",
    "        \n",
    "def thread_main():\n",
    "    global x\n",
    "    x = 0\n",
    "    \n",
    "    t1 = threading.Thread(target = thread_processing)\n",
    "    t2 = threading.Thread(target = thread_processing)\n",
    "    \n",
    "    t1.start()\n",
    "    t2.start()\n",
    "    \n",
    "    t1.join()\n",
    "    t2.join()\n",
    "    \n",
    "start = time.perf_counter()\n",
    "    \n",
    "for i in range(10):\n",
    "    thread_main()\n",
    "    print(\"{0} 번째 반복 이후 x = {1}\".format(i, x))\n",
    "    \n",
    "finish = time.perf_counter()\n",
    "print('종료: ', str(round(finish - start, 2)) + '초')"
   ]
  },
  {
   "cell_type": "code",
   "execution_count": null,
   "id": "fdf8d78a",
   "metadata": {},
   "outputs": [],
   "source": [
    "# MySQL install\n",
    "!pip install pymysql"
   ]
  },
  {
   "cell_type": "code",
   "execution_count": 1,
   "id": "c23c2d2b",
   "metadata": {},
   "outputs": [],
   "source": [
    "MYSQL_USER_DATA_SAVED_FILE = \"mysql/userinfo\""
   ]
  },
  {
   "cell_type": "code",
   "execution_count": 2,
   "id": "6e3d2031",
   "metadata": {},
   "outputs": [],
   "source": [
    "import pickle\n",
    "\n",
    "mysql_user_info = dict({\n",
    "   'user_id': 'eddi',\n",
    "   'password': 'eddi@123'\n",
    "})\n",
    "\n",
    "f = open(MYSQL_USER_DATA_SAVED_FILE, 'wb')\n",
    "pickle.dump(mysql_user_info, f)\n",
    "f.close()"
   ]
  },
  {
   "cell_type": "code",
   "execution_count": 3,
   "id": "88cecea2",
   "metadata": {},
   "outputs": [
    {
     "data": {
      "text/plain": [
       "{'user_id': 'eddi', 'password': 'eddi@123'}"
      ]
     },
     "execution_count": 3,
     "metadata": {},
     "output_type": "execute_result"
    }
   ],
   "source": [
    "mysql_user_info"
   ]
  },
  {
   "cell_type": "code",
   "execution_count": 5,
   "id": "cd9c33e4",
   "metadata": {},
   "outputs": [],
   "source": [
    "del mysql_user_info\n",
    "#mysql_user_info"
   ]
  },
  {
   "cell_type": "code",
   "execution_count": 6,
   "id": "b2fe58bd",
   "metadata": {},
   "outputs": [
    {
     "data": {
      "text/plain": [
       "{'user_id': 'eddi', 'password': 'eddi@123'}"
      ]
     },
     "execution_count": 6,
     "metadata": {},
     "output_type": "execute_result"
    }
   ],
   "source": [
    "import pickle\n",
    "\n",
    "f = open(MYSQL_USER_DATA_SAVED_FILE, 'rb')\n",
    "mysql_user_info = pickle.load(f)\n",
    "f.close()\n",
    "\n",
    "mysql_user_info"
   ]
  },
  {
   "cell_type": "code",
   "execution_count": 8,
   "id": "aba2df7d",
   "metadata": {},
   "outputs": [
    {
     "name": "stdout",
     "output_type": "stream",
     "text": [
      "<pymysql.connections.Connection object at 0x000002813C99DA90>\n"
     ]
    }
   ],
   "source": [
    "import pymysql\n",
    "\n",
    "# 스키마 생성 - pydb\n",
    "db = pymysql.connect(\n",
    "    host = '127.0.0.1',\n",
    "    port = 3306,\n",
    "    user = mysql_user_info['user_id'],\n",
    "    passwd = mysql_user_info['password'],\n",
    "    db = 'pydb'\n",
    ")\n",
    "\n",
    "print(db)"
   ]
  },
  {
   "cell_type": "code",
   "execution_count": 9,
   "id": "10b9cd5a",
   "metadata": {},
   "outputs": [
    {
     "name": "stdout",
     "output_type": "stream",
     "text": [
      "테이블 생성 성공\n"
     ]
    }
   ],
   "source": [
    "cursor = db.cursor()\n",
    "\n",
    "sql = \"\"\"\n",
    "    create table pydb_test(\n",
    "        id int unsigned not null auto_increment,\n",
    "        name varchar(20) not null,\n",
    "        price int not null,\n",
    "        primary key(id)\n",
    "    )\n",
    "\"\"\"\n",
    "\n",
    "cursor.execute(sql)\n",
    "db.commit()\n",
    "db.close()\n",
    "print('테이블 생성 성공')"
   ]
  },
  {
   "cell_type": "code",
   "execution_count": null,
   "id": "6a039dc1",
   "metadata": {},
   "outputs": [],
   "source": []
  }
 ],
 "metadata": {
  "kernelspec": {
   "display_name": "Python 3 (ipykernel)",
   "language": "python",
   "name": "python3"
  },
  "language_info": {
   "codemirror_mode": {
    "name": "ipython",
    "version": 3
   },
   "file_extension": ".py",
   "mimetype": "text/x-python",
   "name": "python",
   "nbconvert_exporter": "python",
   "pygments_lexer": "ipython3",
   "version": "3.9.12"
  }
 },
 "nbformat": 4,
 "nbformat_minor": 5
}
