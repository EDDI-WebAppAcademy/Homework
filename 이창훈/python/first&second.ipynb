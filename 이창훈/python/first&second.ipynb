{
 "cells": [
  {
   "cell_type": "code",
   "execution_count": 1,
   "id": "3e3983c5",
   "metadata": {},
   "outputs": [
    {
     "name": "stdout",
     "output_type": "stream",
     "text": [
      "안녕\n"
     ]
    }
   ],
   "source": [
    "print(\"안녕\")"
   ]
  },
  {
   "cell_type": "code",
   "execution_count": 2,
   "id": "20769a85",
   "metadata": {},
   "outputs": [
    {
     "name": "stdout",
     "output_type": "stream",
     "text": [
      "2 7\n"
     ]
    }
   ],
   "source": [
    "num = 2\n",
    "Num = 7\n",
    "print(num, Num)"
   ]
  },
  {
   "cell_type": "code",
   "execution_count": 3,
   "id": "4e0195b4",
   "metadata": {},
   "outputs": [
    {
     "name": "stdout",
     "output_type": "stream",
     "text": [
      "안녕\n"
     ]
    }
   ],
   "source": [
    "a = \"안녕\"\n",
    "print(a)"
   ]
  },
  {
   "cell_type": "code",
   "execution_count": 4,
   "id": "b888a684",
   "metadata": {},
   "outputs": [
    {
     "name": "stdout",
     "output_type": "stream",
     "text": [
      "점수 입력: 88\n",
      "등급: B\n"
     ]
    }
   ],
   "source": [
    "score = int(input(('점수 입력: ')))\n",
    "\n",
    "if 90 <= score <= 100:\n",
    "    grade = \"A\"\n",
    "elif 80<= score < 90:\n",
    "    grade = \"B\"\n",
    "elif 70<= score < 80:\n",
    "    grade = \"C\"\n",
    "elif 60<= score < 70:\n",
    "    grade = \"D\"\n",
    "else:\n",
    "    grade = \"F\"\n",
    "    \n",
    "print(\"등급: \" + grade)"
   ]
  },
  {
   "cell_type": "code",
   "execution_count": 5,
   "id": "b9f19ba8",
   "metadata": {},
   "outputs": [
    {
     "name": "stdout",
     "output_type": "stream",
     "text": [
      "5\n",
      "4\n",
      "3\n",
      "2\n",
      "1\n"
     ]
    }
   ],
   "source": [
    "val = 5\n",
    "while val > 0:\n",
    "    print(val)\n",
    "    val -= 1"
   ]
  },
  {
   "cell_type": "code",
   "execution_count": 6,
   "id": "4843778d",
   "metadata": {},
   "outputs": [
    {
     "name": "stdout",
     "output_type": "stream",
     "text": [
      "Apple <class 'str'>\n",
      "100 <class 'int'>\n",
      "15.33 <class 'float'>\n"
     ]
    }
   ],
   "source": [
    "lists = ['Apple', 100, 15.33]\n",
    "for i in lists:\n",
    "    print(i, type(i))"
   ]
  },
  {
   "cell_type": "code",
   "execution_count": 7,
   "id": "95f0e066",
   "metadata": {},
   "outputs": [
    {
     "name": "stdout",
     "output_type": "stream",
     "text": [
      "Apple 100\n",
      "Orange 200\n",
      "Banana 300\n"
     ]
    }
   ],
   "source": [
    "d = {\"Apple\" : 100, \"Orange\" : 200, \"Banana\" : 300}\n",
    "for k, v in d.items():\n",
    "    print(k,v)"
   ]
  },
  {
   "cell_type": "code",
   "execution_count": 8,
   "id": "868b80ac",
   "metadata": {},
   "outputs": [
    {
     "name": "stdout",
     "output_type": "stream",
     "text": [
      "1\n",
      "2\n",
      "3\n",
      "4\n",
      "5\n",
      "6\n",
      "7\n",
      "8\n",
      "9\n",
      "10\n"
     ]
    }
   ],
   "source": [
    "for i in range(1, 11):\n",
    "    print(i)"
   ]
  },
  {
   "cell_type": "code",
   "execution_count": 9,
   "id": "ea14c047",
   "metadata": {},
   "outputs": [
    {
     "name": "stdout",
     "output_type": "stream",
     "text": [
      "item: 1\n",
      "item: 2\n",
      "item: 3\n",
      "item: 4\n",
      "item: 5\n"
     ]
    }
   ],
   "source": [
    "numList = range(1, 11)\n",
    "\n",
    "for i in numList:\n",
    "    if i > 5:\n",
    "        break;\n",
    "    print(\"item: {0}\".format(i))"
   ]
  },
  {
   "cell_type": "code",
   "execution_count": 10,
   "id": "799d6c48",
   "metadata": {},
   "outputs": [
    {
     "name": "stdout",
     "output_type": "stream",
     "text": [
      "item: 1\n",
      "item: 3\n",
      "item: 5\n",
      "item: 7\n",
      "item: 9\n"
     ]
    }
   ],
   "source": [
    "# ㅃㄷㄱㄹ\n",
    "for i in numList:\n",
    "    if i % 2 == 0:\n",
    "        continue;\n",
    "        \n",
    "    print(\"item: {0}\".format(i))"
   ]
  },
  {
   "cell_type": "code",
   "execution_count": 11,
   "id": "4ff399a7",
   "metadata": {},
   "outputs": [
    {
     "name": "stdout",
     "output_type": "stream",
     "text": [
      "range(0, 10)\n"
     ]
    }
   ],
   "source": [
    "print(range(10))"
   ]
  },
  {
   "cell_type": "code",
   "execution_count": 12,
   "id": "fb7df0a0",
   "metadata": {},
   "outputs": [
    {
     "name": "stdout",
     "output_type": "stream",
     "text": [
      "[0, 1, 2, 3, 4, 5, 6, 7, 8, 9]\n"
     ]
    }
   ],
   "source": [
    "print(list(range(10)))"
   ]
  },
  {
   "cell_type": "code",
   "execution_count": 13,
   "id": "35f9fbeb",
   "metadata": {},
   "outputs": [
    {
     "name": "stdout",
     "output_type": "stream",
     "text": [
      "[5, 6, 7, 8, 9]\n"
     ]
    }
   ],
   "source": [
    "print(list(range(5,10)))"
   ]
  },
  {
   "cell_type": "code",
   "execution_count": 14,
   "id": "774f83ed",
   "metadata": {},
   "outputs": [
    {
     "name": "stdout",
     "output_type": "stream",
     "text": [
      "[10, 9, 8, 7, 6, 5, 4, 3, 2, 1]\n"
     ]
    }
   ],
   "source": [
    "print(list(range(10,0,-1)))"
   ]
  },
  {
   "cell_type": "code",
   "execution_count": 15,
   "id": "b867e6fa",
   "metadata": {},
   "outputs": [
    {
     "name": "stdout",
     "output_type": "stream",
     "text": [
      "[10, 12, 14, 16, 18]\n"
     ]
    }
   ],
   "source": [
    "print(list(range(10,20,2)))"
   ]
  },
  {
   "cell_type": "code",
   "execution_count": 18,
   "id": "014253fe",
   "metadata": {},
   "outputs": [
    {
     "name": "stdout",
     "output_type": "stream",
     "text": [
      "idx: 0, val: Grape\n",
      "idx: 1, val: 100\n",
      "idx: 2, val: 33.7\n",
      "idx: 3, val: Apple\n"
     ]
    }
   ],
   "source": [
    "varList = [\"Grape\", 100, 33.7, \"Apple\"]\n",
    "for i in range(len(varList)):\n",
    "    print(\"idx: {0}, val: {1}\".format(i, varList[i]))"
   ]
  },
  {
   "cell_type": "code",
   "execution_count": 19,
   "id": "24c5ab7c",
   "metadata": {},
   "outputs": [
    {
     "name": "stdout",
     "output_type": "stream",
     "text": [
      "range(1, 11)\n"
     ]
    }
   ],
   "source": [
    "print(numList)"
   ]
  },
  {
   "cell_type": "code",
   "execution_count": 20,
   "id": "84951f97",
   "metadata": {},
   "outputs": [
    {
     "name": "stdout",
     "output_type": "stream",
     "text": [
      "[1, 4, 9, 16, 25, 36, 49, 64, 81, 100]\n"
     ]
    }
   ],
   "source": [
    "print([i ** 2 for i in numList])"
   ]
  },
  {
   "cell_type": "code",
   "execution_count": 21,
   "id": "e87fe041",
   "metadata": {},
   "outputs": [
    {
     "name": "stdout",
     "output_type": "stream",
     "text": [
      "[5, 6, 5]\n"
     ]
    }
   ],
   "source": [
    "strList = (\"apple\", \"banana\", \"grape\")\n",
    "print([len(i) for i in strList])"
   ]
  },
  {
   "cell_type": "code",
   "execution_count": 23,
   "id": "c1647827",
   "metadata": {},
   "outputs": [
    {
     "name": "stdout",
     "output_type": "stream",
     "text": [
      "['banana']\n"
     ]
    }
   ],
   "source": [
    "strList = (\"apple\", \"banana\", \"grape\", \"kiwi\")\n",
    "\n",
    "print([i for i in strList if len(i) > 5])"
   ]
  },
  {
   "cell_type": "code",
   "execution_count": 24,
   "id": "98e8f1ba",
   "metadata": {},
   "outputs": [
    {
     "name": "stdout",
     "output_type": "stream",
     "text": [
      "item: 10\n",
      "item: 25\n",
      "item: 30\n",
      "item: 35\n"
     ]
    }
   ],
   "source": [
    "numList = [10, 25, 30, 35]\n",
    "for i in filter(None, numList):\n",
    "    print(\"item: {0}\".format(i))"
   ]
  },
  {
   "cell_type": "code",
   "execution_count": 25,
   "id": "53753480",
   "metadata": {},
   "outputs": [
    {
     "name": "stdout",
     "output_type": "stream",
     "text": [
      "item: 25\n",
      "item: 30\n",
      "item: 35\n"
     ]
    }
   ],
   "source": [
    "def GetBiggerThan20(i):\n",
    "    return i > 20\n",
    "\n",
    "for i in filter(GetBiggerThan20, numList):\n",
    "    print(\"item: {0}\".format(i))"
   ]
  },
  {
   "cell_type": "code",
   "execution_count": 26,
   "id": "d90de084",
   "metadata": {},
   "outputs": [
    {
     "name": "stdout",
     "output_type": "stream",
     "text": [
      "item: 25\n",
      "item: 30\n",
      "item: 35\n"
     ]
    }
   ],
   "source": [
    "for i in filter(lambda i: i > 20, numList):\n",
    "    print(\"item: {0}\".format(i))"
   ]
  },
  {
   "cell_type": "code",
   "execution_count": 27,
   "id": "9c856e82",
   "metadata": {},
   "outputs": [
    {
     "name": "stdout",
     "output_type": "stream",
     "text": [
      "item: 20\n",
      "item: 35\n",
      "item: 40\n",
      "item: 45\n"
     ]
    }
   ],
   "source": [
    "def Add10(i):\n",
    "    return i + 10\n",
    "for i in map(Add10, numList):\n",
    "    print(\"item: {0}\".format(i))"
   ]
  },
  {
   "cell_type": "code",
   "execution_count": 28,
   "id": "857c5065",
   "metadata": {},
   "outputs": [
    {
     "name": "stdout",
     "output_type": "stream",
     "text": [
      "item: 20\n",
      "item: 35\n",
      "item: 40\n",
      "item: 45\n"
     ]
    }
   ],
   "source": [
    "for i in map(lambda i: i + 10, numList):\n",
    "    print(\"item: {0}\".format(i))"
   ]
  },
  {
   "cell_type": "code",
   "execution_count": 29,
   "id": "4f1348ef",
   "metadata": {},
   "outputs": [
    {
     "name": "stdout",
     "output_type": "stream",
     "text": [
      "<function times at 0x0000025A8701C8B0>\n",
      "100\n"
     ]
    }
   ],
   "source": [
    "def times(a, b):\n",
    "    return a * b\n",
    "\n",
    "print(times)\n",
    "print(times(10, 10))"
   ]
  },
  {
   "cell_type": "code",
   "execution_count": 32,
   "id": "395f907d",
   "metadata": {},
   "outputs": [
    {
     "name": "stdout",
     "output_type": "stream",
     "text": [
      "100\n"
     ]
    }
   ],
   "source": [
    "pointerOfFunction = times\n",
    "res = pointerOfFunction(10, 10)\n",
    "print(res)"
   ]
  },
  {
   "cell_type": "code",
   "execution_count": 33,
   "id": "37112c04",
   "metadata": {},
   "outputs": [],
   "source": [
    "# buy = game_tiem_buy\n",
    "# buy()\n",
    "\n",
    "# buy = google_play_buy\n",
    "# buy()\n",
    "\n",
    "#일관성"
   ]
  },
  {
   "cell_type": "code",
   "execution_count": 39,
   "id": "7d42daee",
   "metadata": {},
   "outputs": [
    {
     "name": "stdout",
     "output_type": "stream",
     "text": [
      "[]\n",
      "['A']\n"
     ]
    }
   ],
   "source": [
    "def intersect(prelist, postlist):\n",
    "    retList = []\n",
    "    \n",
    "    for x in prelist:\n",
    "        if x in postlist:\n",
    "            retList.append(x)\n",
    "            \n",
    "    return retList\n",
    "\n",
    "listA = \"Apple\"\n",
    "listB = \"onion\"\n",
    "\n",
    "print(intersect(listA, listB))\n",
    "print(intersect(listA, ['H', 'A', 'M']))"
   ]
  },
  {
   "cell_type": "code",
   "execution_count": 36,
   "id": "5f9d11a1",
   "metadata": {},
   "outputs": [
    {
     "name": "stdout",
     "output_type": "stream",
     "text": [
      "(7, 3)\n"
     ]
    }
   ],
   "source": [
    "def swap(x, y):\n",
    "    return y, x\n",
    "\n",
    "print(swap(3,7))"
   ]
  },
  {
   "cell_type": "code",
   "execution_count": 42,
   "id": "4c0ff98f",
   "metadata": {},
   "outputs": [
    {
     "name": "stdout",
     "output_type": "stream",
     "text": [
      "(7, 'apple')\n"
     ]
    }
   ],
   "source": [
    "print(swap(\"apple\",7))"
   ]
  },
  {
   "cell_type": "code",
   "execution_count": 48,
   "id": "5fe0387d",
   "metadata": {},
   "outputs": [
    {
     "name": "stdout",
     "output_type": "stream",
     "text": [
      "1\n",
      "10\n",
      "7\n"
     ]
    }
   ],
   "source": [
    "glob = 1\n",
    "\n",
    "def xchgScope(x):\n",
    "    global glob\n",
    "    #global 때문에 변수값이 변경됨\n",
    "    glob = 7\n",
    "    return glob + x\n",
    "\n",
    "print(glob)\n",
    "print(xchgScope(3))\n",
    "print(glob)"
   ]
  },
  {
   "cell_type": "code",
   "execution_count": 49,
   "id": "4c463007",
   "metadata": {},
   "outputs": [
    {
     "name": "stdout",
     "output_type": "stream",
     "text": [
      "9\n"
     ]
    }
   ],
   "source": [
    "print((lambda x: x * x)(3))"
   ]
  },
  {
   "cell_type": "code",
   "execution_count": 107,
   "id": "7f633ee5",
   "metadata": {
    "scrolled": true
   },
   "outputs": [
    {
     "name": "stdout",
     "output_type": "stream",
     "text": [
      "내 이름은 Default\n",
      "내 이름은 홍길동\n",
      "내 이름은 김개똥\n"
     ]
    }
   ],
   "source": [
    "class Person:\n",
    "    name = \"Default\"\n",
    "    \n",
    "    def personPrint(self):\n",
    "        print(\"내 이름은 {0}\".format(self.name))\n",
    "        \n",
    "p1 = Person()\n",
    "p1.personPrint()\n",
    "\n",
    "p2 = Person()\n",
    "p2.name = \"김개똥\"\n",
    "\n",
    "p1.name = \"홍길동\"\n",
    "p1.personPrint()\n",
    "Person.personPrint(p2)"
   ]
  },
  {
   "cell_type": "code",
   "execution_count": 47,
   "id": "c1d7c932",
   "metadata": {},
   "outputs": [
    {
     "name": "stdout",
     "output_type": "stream",
     "text": [
      "3\n",
      "7\n",
      "33\n"
     ]
    },
    {
     "ename": "AttributeError",
     "evalue": "'Test' object has no attribute '__test3'",
     "output_type": "error",
     "traceback": [
      "\u001b[1;31m---------------------------------------------------------------------------\u001b[0m",
      "\u001b[1;31mAttributeError\u001b[0m                            Traceback (most recent call last)",
      "Input \u001b[1;32mIn [47]\u001b[0m, in \u001b[0;36m<cell line: 17>\u001b[1;34m()\u001b[0m\n\u001b[0;32m     15\u001b[0m \u001b[38;5;28mprint\u001b[39m(test\u001b[38;5;241m.\u001b[39m_test2)\n\u001b[0;32m     16\u001b[0m test\u001b[38;5;241m.\u001b[39mtestPrint()\n\u001b[1;32m---> 17\u001b[0m \u001b[38;5;28mprint\u001b[39m(\u001b[43mtest\u001b[49m\u001b[38;5;241;43m.\u001b[39;49m\u001b[43m__test3\u001b[49m)\n",
      "\u001b[1;31mAttributeError\u001b[0m: 'Test' object has no attribute '__test3'"
     ]
    }
   ],
   "source": [
    "class Test:\n",
    "    test1 = 3\n",
    "    _test2 = 7\n",
    "    __test3 = 33\n",
    "    \n",
    "    def testPrint(self):\n",
    "        print(self.__test3)\n",
    "    \n",
    "    # __는 자바에서 private\n",
    "    # _ 는 protected\n",
    "\n",
    "test = Test()\n",
    "\n",
    "print(test.test1)\n",
    "print(test._test2)\n",
    "test.testPrint()\n",
    "print(test.__test3)\n",
    "\n"
   ]
  },
  {
   "cell_type": "code",
   "execution_count": 2,
   "id": "2bfb534e",
   "metadata": {},
   "outputs": [
    {
     "name": "stdout",
     "output_type": "stream",
     "text": [
      "{'name': '고고싱', 'age': 77}\n"
     ]
    }
   ],
   "source": [
    "class Person:\n",
    "    def __init__(self, name, age):\n",
    "        # self 는 java에서 this\n",
    "        self.name = name\n",
    "        self.age = age\n",
    "        \n",
    "    def print(self):\n",
    "        print(\"이름은 {0}, 나이는 {1}\".format(self.name, self.age))\n",
    "        \n",
    "p = Person(\"고고싱\", 77)\n",
    "\n",
    "print(p.__dict__)\n",
    "#__dict__ 객체 전체를 보여주는것 java에서는 ToString 느낌"
   ]
  },
  {
   "cell_type": "code",
   "execution_count": 3,
   "id": "435e83c1",
   "metadata": {},
   "outputs": [
    {
     "name": "stdout",
     "output_type": "stream",
     "text": [
      "{'name': '고고싱', 'age': 33, 'major': '물리학'}\n"
     ]
    }
   ],
   "source": [
    "#상속\n",
    "class Student(Person):\n",
    "    def __init__(self, name, age, major):\n",
    "        super(Student, self).__init__(name, age)\n",
    "        self.major = major\n",
    "        \n",
    "    def printStudent(self):\n",
    "        print(\"Student - name: {0}, age: {1}, major: {2}\".format(self.name, self,age, self.major))\n",
    "        \n",
    "s = Student(\"고고싱\", 33, \"물리학\")\n",
    "print(s.__dict__)"
   ]
  },
  {
   "cell_type": "code",
   "execution_count": 231,
   "id": "7a7e11e1",
   "metadata": {},
   "outputs": [
    {
     "name": "stdout",
     "output_type": "stream",
     "text": [
      "(7, 2)\n"
     ]
    }
   ],
   "source": [
    "from random import *    \n",
    "\n",
    "def createCoordinate():\n",
    "    x = randint(1, 8)\n",
    "    y = randint(1, 8)\n",
    "    return(x, y)\n",
    "\n",
    "    \n",
    "myPoint = createCoordinate()\n",
    "\n",
    "print(myPoint)\n",
    "\n"
   ]
  },
  {
   "cell_type": "code",
   "execution_count": null,
   "id": "dc868fd2",
   "metadata": {},
   "outputs": [],
   "source": []
  },
  {
   "cell_type": "code",
   "execution_count": null,
   "id": "45a98bd4",
   "metadata": {},
   "outputs": [],
   "source": []
  }
 ],
 "metadata": {
  "kernelspec": {
   "display_name": "Python 3 (ipykernel)",
   "language": "python",
   "name": "python3"
  },
  "language_info": {
   "codemirror_mode": {
    "name": "ipython",
    "version": 3
   },
   "file_extension": ".py",
   "mimetype": "text/x-python",
   "name": "python",
   "nbconvert_exporter": "python",
   "pygments_lexer": "ipython3",
   "version": "3.9.12"
  }
 },
 "nbformat": 4,
 "nbformat_minor": 5
}
